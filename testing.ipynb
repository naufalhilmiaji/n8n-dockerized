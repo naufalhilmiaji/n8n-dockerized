{
 "cells": [
  {
   "cell_type": "code",
   "execution_count": null,
   "id": "67313637",
   "metadata": {},
   "outputs": [
    {
     "data": {
      "text/plain": [
       "UUID('b652f6e2-2466-48ee-9851-3965a1a60510')"
      ]
     },
     "execution_count": 1,
     "metadata": {},
     "output_type": "execute_result"
    }
   ],
   "source": [
    "import requests\n",
    "import uuid\n",
    "\n",
    "UUID = uuid.uuid4()"
   ]
  },
  {
   "cell_type": "code",
   "execution_count": 2,
   "id": "118ca5b7",
   "metadata": {},
   "outputs": [
    {
     "name": "stdout",
     "output_type": "stream",
     "text": [
      "b652f6e2-2466-48ee-9851-3965a1a60510\n"
     ]
    }
   ],
   "source": [
    "uuid_str = str(UUID)\n",
    "print(uuid_str)"
   ]
  },
  {
   "cell_type": "code",
   "execution_count": 4,
   "id": "764d1376",
   "metadata": {},
   "outputs": [
    {
     "data": {
      "text/plain": [
       "<Response [200]>"
      ]
     },
     "execution_count": 4,
     "metadata": {},
     "output_type": "execute_result"
    }
   ],
   "source": [
    "import requests\n",
    "\n",
    "res = requests.post(\"http://localhost:5678/webhook-test/99e08f0e-9c32-4a7f-b9c6-274e1b1028b1\", data={\n",
    "    \"sessionId\": uuid_str,\n",
    "    \"chat\": \"Get details of 5 active customers from Cilegon Region sorted by their name\"\n",
    "})\n",
    "res"
   ]
  },
  {
   "cell_type": "code",
   "execution_count": null,
   "id": "c207641a",
   "metadata": {},
   "outputs": [],
   "source": []
  }
 ],
 "metadata": {
  "kernelspec": {
   "display_name": "avemon",
   "language": "python",
   "name": "python3"
  },
  "language_info": {
   "codemirror_mode": {
    "name": "ipython",
    "version": 3
   },
   "file_extension": ".py",
   "mimetype": "text/x-python",
   "name": "python",
   "nbconvert_exporter": "python",
   "pygments_lexer": "ipython3",
   "version": "3.12.10"
  }
 },
 "nbformat": 4,
 "nbformat_minor": 5
}
